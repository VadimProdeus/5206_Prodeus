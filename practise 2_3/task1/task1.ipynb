{
 "cells": [
  {
   "cell_type": "code",
   "execution_count": 1,
   "metadata": {},
   "outputs": [
    {
     "name": "stdout",
     "output_type": "stream",
     "text": [
      "Збираємо заголовки та дати...\n",
      "Знайдені пости:\n",
      "1. 21 Грудня, 2024 8:10 - Оперативна інформація станом на 08.00 21.12.2024 щодо російського вторгнення\n",
      "2. 20 Грудня, 2024 19:30 - Головнокомандувач Збройний Сил України спростував інформацію про оточення підрозділів\n",
      "3. 20 Грудня, 2024 18:30 - Брифінг Командування Медичних сил ЗСУ: Актуальні питання військово-лікарської комісії та підготовки медиків\n",
      "4. 20 Грудня, 2024 18:00 - Інноваційні безпілотні системи та технології для Збройних Сил України\n",
      "5. 20 Грудня, 2024 8:30 - Black Widow Web 10: успіх українських інновацій у військовій техніці\n",
      "6. 20 Грудня, 2024 8:10 - Оперативна інформація станом на 08.00 20.12.2024 щодо російського вторгнення\n",
      "7. 19 Грудня, 2024 19:00 - Головнокомандувач ЗС України: Технології змінюють тактику на полі бою – інтерв’ю для Le Monde\n",
      "8. 19 Грудня, 2024 16:25 - Новий Сервіс Армії+: швидке повернення на службу та можливість переведення в іншу частину\n",
      "9. 19 Грудня, 2024 12:15 - Українська писанка та кобзарсько-лірницькі традиції включені до Реєстру кращих практик з охорони нематеріальної культурної спадщини\n",
      "10. 19 Грудня, 2024 10:00 - Уражено стратегічний об’єкт російських окупантів: успішна операція Сил оборони та Служби безпеки України\n"
     ]
    }
   ],
   "source": [
    "import requests\n",
    "from bs4 import BeautifulSoup\n",
    "\n",
    "# URL сторінки для парсингу\n",
    "URL = \"https://www.zsu.gov.ua/category/news/page/5/\"\n",
    "\n",
    "# Функція для збору заголовків та дат\n",
    "def scrape_titles_and_dates(url):\n",
    "    try:\n",
    "        # Заголовки для запиту\n",
    "        headers = {\n",
    "            \"User-Agent\": \"Mozilla/5.0 (Windows NT 10.0; Win64; x64) AppleWebKit/537.36 (KHTML, like Gecko) Chrome/91.0.4472.124 Safari/537.36\",\n",
    "            \"Accept-Language\": \"en-US,en;q=0.9\",\n",
    "            \"Referer\": \"https://www.zsu.gov.ua/\"\n",
    "        }\n",
    "        \n",
    "        # Надсилаємо запит\n",
    "        response = requests.get(url, headers=headers)\n",
    "        response.raise_for_status()\n",
    "        \n",
    "        # Парсимо HTML\n",
    "        soup = BeautifulSoup(response.text, 'html.parser')\n",
    "        \n",
    "        # Збираємо всі блоки опису постів\n",
    "        posts = soup.find_all('div', class_='post__description')\n",
    "        \n",
    "        # Збираємо дати та заголовки\n",
    "        data = []\n",
    "        for post in posts:\n",
    "            date = post.find('div', class_='post__date').get_text(strip=True)\n",
    "            title = post.find('div', class_='post__title').get_text(strip=True)\n",
    "            data.append({\"date\": date, \"title\": title})\n",
    "        \n",
    "        return data\n",
    "    except requests.RequestException as e:\n",
    "        print(f\"Помилка запиту: {e}\")\n",
    "        return []\n",
    "    except Exception as e:\n",
    "        print(f\"Помилка парсингу: {e}\")\n",
    "        return []\n",
    "\n",
    "# Основний код\n",
    "if __name__ == \"__main__\":\n",
    "    print(\"Збираємо заголовки та дати...\")\n",
    "    posts_data = scrape_titles_and_dates(URL)\n",
    "    \n",
    "    if posts_data:\n",
    "        print(\"Знайдені пости:\")\n",
    "        for idx, post in enumerate(posts_data, start=1):\n",
    "            print(f\"{idx}. {post['date']} - {post['title']}\")\n",
    "    else:\n",
    "        print(\"Жодних даних не знайдено.\")"
   ]
  },
  {
   "cell_type": "code",
   "execution_count": null,
   "metadata": {},
   "outputs": [],
   "source": []
  }
 ],
 "metadata": {
  "kernelspec": {
   "display_name": "Python 3",
   "language": "python",
   "name": "python3"
  },
  "language_info": {
   "codemirror_mode": {
    "name": "ipython",
    "version": 3
   },
   "file_extension": ".py",
   "mimetype": "text/x-python",
   "name": "python",
   "nbconvert_exporter": "python",
   "pygments_lexer": "ipython3",
   "version": "3.11.9"
  }
 },
 "nbformat": 4,
 "nbformat_minor": 2
}
