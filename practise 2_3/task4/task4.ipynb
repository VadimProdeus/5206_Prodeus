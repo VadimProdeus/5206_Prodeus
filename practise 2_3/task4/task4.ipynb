{
 "cells": [
  {
   "cell_type": "code",
   "execution_count": 1,
   "metadata": {},
   "outputs": [
    {
     "name": "stdout",
     "output_type": "stream",
     "text": [
      "XML-файл успішно створено: units.xml\n"
     ]
    }
   ],
   "source": [
    "import os\n",
    "import xml.etree.ElementTree as ET\n",
    "\n",
    "# Дані про підрозділи\n",
    "units = [\n",
    "    {\"name\": \"Продажі\", \"count\": 50, \"status\": \"Активний\"},\n",
    "    {\"name\": \"Розробка\", \"count\": 100, \"status\": \"Активний\"},\n",
    "    {\"name\": \"HR\", \"count\": 20, \"status\": \"Пасивний\"},\n",
    "    {\"name\": \"Фінанси\", \"count\": 30, \"status\": \"Активний\"},\n",
    "]\n",
    "\n",
    "# Функція для створення XML-файлу\n",
    "def create_xml_file(data, file_path):\n",
    "    # Перевіряємо, чи існує директорія\n",
    "    directory = os.path.dirname(file_path)\n",
    "    if directory and not os.path.exists(directory):\n",
    "        os.makedirs(directory)\n",
    "    \n",
    "    # Створення кореневого елемента\n",
    "    root = ET.Element(\"Units\")\n",
    "    \n",
    "    for unit in data:\n",
    "        # Додаємо елемент підрозділу\n",
    "        unit_element = ET.SubElement(root, \"Unit\")\n",
    "        ET.SubElement(unit_element, \"Name\").text = unit[\"name\"]\n",
    "        ET.SubElement(unit_element, \"Count\").text = str(unit[\"count\"])\n",
    "        ET.SubElement(unit_element, \"Status\").text = unit[\"status\"]\n",
    "    \n",
    "    # Створення дерева XML\n",
    "    tree = ET.ElementTree(root)\n",
    "    \n",
    "    # Збереження у файл\n",
    "    tree.write(file_path, encoding=\"utf-8\", xml_declaration=True)\n",
    "\n",
    "# Шлях до XML-файлу\n",
    "file_path = \"units.xml\"  # Можете змінити на абсолютний шлях\n",
    "\n",
    "# Виклик функції для створення XML\n",
    "create_xml_file(units, file_path)\n",
    "\n",
    "print(f\"XML-файл успішно створено: {file_path}\")"
   ]
  }
 ],
 "metadata": {
  "kernelspec": {
   "display_name": "Python 3",
   "language": "python",
   "name": "python3"
  },
  "language_info": {
   "codemirror_mode": {
    "name": "ipython",
    "version": 3
   },
   "file_extension": ".py",
   "mimetype": "text/x-python",
   "name": "python",
   "nbconvert_exporter": "python",
   "pygments_lexer": "ipython3",
   "version": "3.11.9"
  }
 },
 "nbformat": 4,
 "nbformat_minor": 2
}
