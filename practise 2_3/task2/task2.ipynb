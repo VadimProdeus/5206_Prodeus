{
 "cells": [
  {
   "cell_type": "code",
   "execution_count": 1,
   "metadata": {},
   "outputs": [
    {
     "data": {
      "text/plain": [
       "'data.xlsx'"
      ]
     },
     "execution_count": 1,
     "metadata": {},
     "output_type": "execute_result"
    }
   ],
   "source": [
    "import pandas as pd\n",
    "\n",
    "# Дані для створення Excel-файлу\n",
    "data = {\n",
    "    \"Ім'я\": [\"Василь\", \"Михайло\", \"Олена\", \"Петро\", \"Марина\"],\n",
    "    \"Дата\": [\"2024-06-15\", \"2024-07-10\", \"2024-08-25\", \"2024-09-01\", \"2024-10-20\"],\n",
    "    \"Відділ\": [\"Продажі\", \"Розробка\", \"HR\", \"Маркетинг\", \"Фінанси\"],\n",
    "}\n",
    "\n",
    "# Створюємо DataFrame\n",
    "df = pd.DataFrame(data)\n",
    "\n",
    "# Зберігаємо у файл data.xlsx\n",
    "file_path = \"data.xlsx\"\n",
    "df.to_excel(file_path, index=False)\n",
    "\n",
    "file_path"
   ]
  }
 ],
 "metadata": {
  "kernelspec": {
   "display_name": "Python 3",
   "language": "python",
   "name": "python3"
  },
  "language_info": {
   "codemirror_mode": {
    "name": "ipython",
    "version": 3
   },
   "file_extension": ".py",
   "mimetype": "text/x-python",
   "name": "python",
   "nbconvert_exporter": "python",
   "pygments_lexer": "ipython3",
   "version": "3.11.9"
  }
 },
 "nbformat": 4,
 "nbformat_minor": 2
}
